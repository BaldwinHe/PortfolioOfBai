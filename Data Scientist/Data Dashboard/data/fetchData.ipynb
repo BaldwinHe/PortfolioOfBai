{
 "cells": [
  {
   "cell_type": "code",
   "execution_count": 3,
   "metadata": {},
   "outputs": [
    {
     "data": {
      "text/html": [
       "        <script type=\"text/javascript\">\n",
       "        window.PlotlyConfig = {MathJaxConfig: 'local'};\n",
       "        if (window.MathJax) {MathJax.Hub.Config({SVG: {font: \"STIX-Web\"}});}\n",
       "        if (typeof require !== 'undefined') {\n",
       "        require.undef(\"plotly\");\n",
       "        requirejs.config({\n",
       "            paths: {\n",
       "                'plotly': ['https://cdn.plot.ly/plotly-latest.min']\n",
       "            }\n",
       "        });\n",
       "        require(['plotly'], function(Plotly) {\n",
       "            window._Plotly = Plotly;\n",
       "        });\n",
       "        }\n",
       "        </script>\n",
       "        "
      ]
     },
     "metadata": {},
     "output_type": "display_data"
    }
   ],
   "source": [
    "import requests\n",
    "import json\n",
    "import time\n",
    "import pandas as pd\n",
    "import urllib3\n",
    "import plotly.graph_objects as go\n",
    "import numpy as np\n",
    "import plotly\n",
    "plotly.offline.init_notebook_mode(connected=True)\n",
    "%matplotlib inline"
   ]
  },
  {
   "cell_type": "code",
   "execution_count": 16,
   "metadata": {},
   "outputs": [],
   "source": [
    "def convertTime(timestamp_list):\n",
    "    time_current_list = []\n",
    "    for time_stamp in timestamp_list:\n",
    "        time_local = time.localtime(time_stamp)\n",
    "        time_current = time.strftime(\"%Y-%m-%d %H:%M:%S\",time_local)\n",
    "        time_current_list.append(time_current)\n",
    "    return time_current_list\n",
    "def convertFahrenheit(fahrenheit_list):\n",
    "    celsius_list = []\n",
    "    for fahrenheit in fahrenheit_list:\n",
    "        celsius = round((fahrenheit - 32) / 1.8,1)\n",
    "        celsius_list.append(celsius)\n",
    "    return celsius_list\n",
    "\n",
    "def getApiData(url):\n",
    "    payload = {}\n",
    "    files = {}\n",
    "    headers= {'Accept-Encoding': 'gzip'}\n",
    "    session = requests.Session()\n",
    "    response = session.request(\"GET\", url, headers=headers, data = payload, files = files)\n",
    "    responseJson = json.loads(response.text)\n",
    "    return responseJson"
   ]
  },
  {
   "cell_type": "code",
   "execution_count": 30,
   "metadata": {},
   "outputs": [],
   "source": [
    "indicator_list = ['SP.POP.TOTL','SL.AGR.EMPL.ZS','NY.GDP.MKTP.CD',\n",
    "            'DPANUSSPF','EG.ELC.ACCS.UR.ZS','EG.ELC.ACCS.RU.ZS']\n",
    "countryAll = ';'.join(['BR','RU','IN','CN','ZA'])"
   ]
  },
  {
   "cell_type": "code",
   "execution_count": 107,
   "metadata": {
    "scrolled": true
   },
   "outputs": [
    {
     "data": {
      "text/html": [
       "<div>\n",
       "<style scoped>\n",
       "    .dataframe tbody tr th:only-of-type {\n",
       "        vertical-align: middle;\n",
       "    }\n",
       "\n",
       "    .dataframe tbody tr th {\n",
       "        vertical-align: top;\n",
       "    }\n",
       "\n",
       "    .dataframe thead th {\n",
       "        text-align: right;\n",
       "    }\n",
       "</style>\n",
       "<table border=\"1\" class=\"dataframe\">\n",
       "  <thead>\n",
       "    <tr style=\"text-align: right;\">\n",
       "      <th></th>\n",
       "      <th>country</th>\n",
       "      <th>date</th>\n",
       "      <th>Population, total</th>\n",
       "      <th>Employment in agriculture (% of total employment) (modeled ILO estimate)</th>\n",
       "      <th>GDP (current US$)</th>\n",
       "      <th>Exchange rate, old LCU per USD extended forward, period average,,</th>\n",
       "      <th>Access to electricity, urban (% of urban population)</th>\n",
       "      <th>Access to electricity, rural (% of rural population)</th>\n",
       "    </tr>\n",
       "  </thead>\n",
       "  <tbody>\n",
       "    <tr>\n",
       "      <th>0</th>\n",
       "      <td>Brazil</td>\n",
       "      <td>2017</td>\n",
       "      <td>207833831</td>\n",
       "      <td>9.502</td>\n",
       "      <td>2.05359e+12</td>\n",
       "      <td>3.19026</td>\n",
       "      <td>100</td>\n",
       "      <td>100</td>\n",
       "    </tr>\n",
       "    <tr>\n",
       "      <th>1</th>\n",
       "      <td>Brazil</td>\n",
       "      <td>2016</td>\n",
       "      <td>206163058</td>\n",
       "      <td>10.182</td>\n",
       "      <td>1.79628e+12</td>\n",
       "      <td>3.48671</td>\n",
       "      <td>99.9</td>\n",
       "      <td>98.4671</td>\n",
       "    </tr>\n",
       "    <tr>\n",
       "      <th>2</th>\n",
       "      <td>Brazil</td>\n",
       "      <td>2015</td>\n",
       "      <td>204471769</td>\n",
       "      <td>10.242</td>\n",
       "      <td>1.80221e+12</td>\n",
       "      <td>3.33169</td>\n",
       "      <td>99.9562</td>\n",
       "      <td>98.2324</td>\n",
       "    </tr>\n",
       "    <tr>\n",
       "      <th>3</th>\n",
       "      <td>Brazil</td>\n",
       "      <td>2014</td>\n",
       "      <td>202763735</td>\n",
       "      <td>10.371</td>\n",
       "      <td>2.45599e+12</td>\n",
       "      <td>2.35427</td>\n",
       "      <td>99.9456</td>\n",
       "      <td>97.9101</td>\n",
       "    </tr>\n",
       "    <tr>\n",
       "      <th>4</th>\n",
       "      <td>Brazil</td>\n",
       "      <td>2013</td>\n",
       "      <td>201035903</td>\n",
       "      <td>11.199</td>\n",
       "      <td>2.47281e+12</td>\n",
       "      <td>2.15873</td>\n",
       "      <td>99.935</td>\n",
       "      <td>97.502</td>\n",
       "    </tr>\n",
       "  </tbody>\n",
       "</table>\n",
       "</div>"
      ],
      "text/plain": [
       "  country  date Population, total  \\\n",
       "0  Brazil  2017         207833831   \n",
       "1  Brazil  2016         206163058   \n",
       "2  Brazil  2015         204471769   \n",
       "3  Brazil  2014         202763735   \n",
       "4  Brazil  2013         201035903   \n",
       "\n",
       "  Employment in agriculture (% of total employment) (modeled ILO estimate)  \\\n",
       "0                                              9.502                         \n",
       "1                                             10.182                         \n",
       "2                                             10.242                         \n",
       "3                                             10.371                         \n",
       "4                                             11.199                         \n",
       "\n",
       "  GDP (current US$)  \\\n",
       "0       2.05359e+12   \n",
       "1       1.79628e+12   \n",
       "2       1.80221e+12   \n",
       "3       2.45599e+12   \n",
       "4       2.47281e+12   \n",
       "\n",
       "  Exchange rate, old LCU per USD extended forward, period average,,  \\\n",
       "0                                            3.19026                  \n",
       "1                                            3.48671                  \n",
       "2                                            3.33169                  \n",
       "3                                            2.35427                  \n",
       "4                                            2.15873                  \n",
       "\n",
       "  Access to electricity, urban (% of urban population)  \\\n",
       "0                                                100     \n",
       "1                                               99.9     \n",
       "2                                            99.9562     \n",
       "3                                            99.9456     \n",
       "4                                             99.935     \n",
       "\n",
       "  Access to electricity, rural (% of rural population)  \n",
       "0                                                100    \n",
       "1                                            98.4671    \n",
       "2                                            98.2324    \n",
       "3                                            97.9101    \n",
       "4                                             97.502    "
      ]
     },
     "execution_count": 107,
     "metadata": {},
     "output_type": "execute_result"
    }
   ],
   "source": [
    "indicator_list = ['SP.POP.TOTL','SL.AGR.EMPL.ZS','NY.GDP.MKTP.CD',\n",
    "            'DPANUSSPF','EG.ELC.ACCS.UR.ZS','EG.ELC.ACCS.RU.ZS']\n",
    "countryAll = ';'.join(['BR','RU','IN','CN','ZA'])\n",
    "\n",
    "df_list = []\n",
    "for indicator_type in indicator_list:\n",
    "    text = 'http://api.worldbank.org/v2/country/{}/indicator/{}?format=json&per_page=1000&date=2012:2017'.format(countryAll,\n",
    "                                                                                indicator_type)\n",
    "    temp = getApiData(text)[1]\n",
    "    df = pd.read_json(json.dumps(temp),orient='columns')\n",
    "    df = df.drop(['unit','obs_status','decimal','countryiso3code'],axis=1)\n",
    "    df['country'] = df['country'].apply(lambda x:x['value'])\n",
    "    df['indicator'] = df['indicator'].apply(lambda x:x['value'])\n",
    "    df = df.rename(columns={'value':df.indicator[0]})\n",
    "    df = df.drop(['indicator'],axis=1)\n",
    "    df_list.append(df)\n",
    "dfAns = df_list[0]\n",
    "for df in df_list:\n",
    "    dfAns = pd.merge(dfAns,df,on=['country','date'],how='outer')\n",
    "dfAns = dfAns.T.drop_duplicates().T\n",
    "dfAns = dfAns.rename(columns={'Population, total_x':'Population, total'})\n",
    "dfAns.head()"
   ]
  },
  {
   "cell_type": "code",
   "execution_count": 108,
   "metadata": {},
   "outputs": [
    {
     "ename": "AttributeError",
     "evalue": "'DataFrame' object has no attribute 'time'",
     "output_type": "error",
     "traceback": [
      "\u001b[0;31m---------------------------------------------------------------------------\u001b[0m",
      "\u001b[0;31mAttributeError\u001b[0m                            Traceback (most recent call last)",
      "\u001b[0;32m<ipython-input-108-906c3ca1151f>\u001b[0m in \u001b[0;36m<module>\u001b[0;34m\u001b[0m\n\u001b[1;32m      1\u001b[0m \u001b[0mgraph_predict_temperature\u001b[0m \u001b[0;34m=\u001b[0m \u001b[0;34m[\u001b[0m\u001b[0;34m]\u001b[0m\u001b[0;34m\u001b[0m\u001b[0;34m\u001b[0m\u001b[0m\n\u001b[1;32m      2\u001b[0m graph_predict_temperature.append(\n\u001b[0;32m----> 3\u001b[0;31m     go.Scatter(x = df.time,\n\u001b[0m\u001b[1;32m      4\u001b[0m                \u001b[0my\u001b[0m \u001b[0;34m=\u001b[0m \u001b[0mdf\u001b[0m\u001b[0;34m.\u001b[0m\u001b[0mtemperatureC\u001b[0m\u001b[0;34m,\u001b[0m\u001b[0;34m\u001b[0m\u001b[0;34m\u001b[0m\u001b[0m\n\u001b[1;32m      5\u001b[0m                \u001b[0mmode\u001b[0m \u001b[0;34m=\u001b[0m \u001b[0;34m'lines'\u001b[0m\u001b[0;34m\u001b[0m\u001b[0;34m\u001b[0m\u001b[0m\n",
      "\u001b[0;32m~/anaconda3/envs/tensorflow_2.x/lib/python3.6/site-packages/pandas/core/generic.py\u001b[0m in \u001b[0;36m__getattr__\u001b[0;34m(self, name)\u001b[0m\n\u001b[1;32m   5272\u001b[0m             \u001b[0;32mif\u001b[0m \u001b[0mself\u001b[0m\u001b[0;34m.\u001b[0m\u001b[0m_info_axis\u001b[0m\u001b[0;34m.\u001b[0m\u001b[0m_can_hold_identifiers_and_holds_name\u001b[0m\u001b[0;34m(\u001b[0m\u001b[0mname\u001b[0m\u001b[0;34m)\u001b[0m\u001b[0;34m:\u001b[0m\u001b[0;34m\u001b[0m\u001b[0;34m\u001b[0m\u001b[0m\n\u001b[1;32m   5273\u001b[0m                 \u001b[0;32mreturn\u001b[0m \u001b[0mself\u001b[0m\u001b[0;34m[\u001b[0m\u001b[0mname\u001b[0m\u001b[0;34m]\u001b[0m\u001b[0;34m\u001b[0m\u001b[0;34m\u001b[0m\u001b[0m\n\u001b[0;32m-> 5274\u001b[0;31m             \u001b[0;32mreturn\u001b[0m \u001b[0mobject\u001b[0m\u001b[0;34m.\u001b[0m\u001b[0m__getattribute__\u001b[0m\u001b[0;34m(\u001b[0m\u001b[0mself\u001b[0m\u001b[0;34m,\u001b[0m \u001b[0mname\u001b[0m\u001b[0;34m)\u001b[0m\u001b[0;34m\u001b[0m\u001b[0;34m\u001b[0m\u001b[0m\n\u001b[0m\u001b[1;32m   5275\u001b[0m \u001b[0;34m\u001b[0m\u001b[0m\n\u001b[1;32m   5276\u001b[0m     \u001b[0;32mdef\u001b[0m \u001b[0m__setattr__\u001b[0m\u001b[0;34m(\u001b[0m\u001b[0mself\u001b[0m\u001b[0;34m,\u001b[0m \u001b[0mname\u001b[0m\u001b[0;34m:\u001b[0m \u001b[0mstr\u001b[0m\u001b[0;34m,\u001b[0m \u001b[0mvalue\u001b[0m\u001b[0;34m)\u001b[0m \u001b[0;34m->\u001b[0m \u001b[0;32mNone\u001b[0m\u001b[0;34m:\u001b[0m\u001b[0;34m\u001b[0m\u001b[0;34m\u001b[0m\u001b[0m\n",
      "\u001b[0;31mAttributeError\u001b[0m: 'DataFrame' object has no attribute 'time'"
     ]
    }
   ],
   "source": [
    "graph_predict_temperature = []\n",
    "graph_predict_temperature.append(\n",
    "    go.Scatter(x = df.time,\n",
    "               y = df.temperatureC,\n",
    "               mode = 'lines'\n",
    "        )\n",
    ")\n",
    "layout_predict_temperature = dict(title='Temperature In 48 Hours', \n",
    "                                  xaxis=dict(title='time(h)'),\n",
    "                                  yaxis=dict(title='degrees'))\n",
    "fig = go.Figure(go.Scatter(\n",
    "        x = df.time,\n",
    "        y = df.temperatureC,\n",
    "        mode = 'lines'\n",
    "    ),layout_predict_temperature)\n",
    "fig.show()"
   ]
  },
  {
   "cell_type": "code",
   "execution_count": null,
   "metadata": {},
   "outputs": [
    {
     "name": "stdout",
     "output_type": "stream",
     "text": []
    },
    {
     "name": "stdout",
     "output_type": "stream",
     "text": [
      "Building jupyterlab assets (build:prod:minimize)\n",
      "-"
     ]
    }
   ],
   "source": [
    "\n",
    "go.Scatter()"
   ]
  },
  {
   "cell_type": "code",
   "execution_count": null,
   "metadata": {},
   "outputs": [],
   "source": [
    "conver"
   ]
  }
 ],
 "metadata": {
  "kernelspec": {
   "display_name": "Python 3",
   "language": "python",
   "name": "python3"
  },
  "language_info": {
   "codemirror_mode": {
    "name": "ipython",
    "version": 3
   },
   "file_extension": ".py",
   "mimetype": "text/x-python",
   "name": "python",
   "nbconvert_exporter": "python",
   "pygments_lexer": "ipython3",
   "version": "3.6.10"
  }
 },
 "nbformat": 4,
 "nbformat_minor": 4
}
